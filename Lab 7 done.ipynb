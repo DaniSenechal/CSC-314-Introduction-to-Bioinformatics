{
 "cells": [
  {
   "cell_type": "markdown",
   "metadata": {
    "deletable": false,
    "editable": false
   },
   "source": [
    "# Lab 7: BioPython\n",
    "\n",
    "This script reads the MAOA genbank file that we have seen previously in Lab 5. Here, you will use BioPython to answer some of the questions you had answered in the previous lab. Biopython must be used to answer the questions and output the answers where indicated at the end of this Notebook (you may submit just the Python script (.py file) rather than a Notebook if you prefer."
   ]
  },
  {
   "cell_type": "code",
   "execution_count": 1,
   "metadata": {},
   "outputs": [
    {
     "name": "stdout",
     "output_type": "stream",
     "text": [
      "Accession #:  NG_008957.2\n",
      "Description:  Homo sapiens monoamine oxidase A (MAOA), RefSeqGene on chromosome X\n",
      "seq length =  97661\n"
     ]
    }
   ],
   "source": [
    "from Bio import SeqIO # to parse Seq data\n",
    "#åfrom Bio.Seq import Seq # for Seq\n",
    "\n",
    "with open('MAOA.gb.txt') as handle :\n",
    "\n",
    "    # gets an iterator that allows you to go through each entry\n",
    "    sequence_iter = SeqIO.parse(handle, \"genbank\")\n",
    "\n",
    "    # gets next sequence (which is the 1st one here)\n",
    "    seq_record = next(sequence_iter)\n",
    "\n",
    "    print('Accession #: ', seq_record.id)\n",
    "    print('Description: ', seq_record.description)\n",
    "    print('seq length = ', len(seq_record))"
   ]
  },
  {
   "cell_type": "code",
   "execution_count": 2,
   "metadata": {},
   "outputs": [
    {
     "name": "stdout",
     "output_type": "stream",
     "text": [
      "=================== Chromosome ==================\n",
      "X\n",
      "\n",
      "=================== Gene ==================\n",
      "type: gene\n",
      "location: [3746:95664](+)\n",
      "qualifiers:\n",
      "    Key: db_xref, Value: ['GeneID:4128', 'HGNC:HGNC:6833', 'MIM:309850']\n",
      "    Key: gene, Value: ['MAOA']\n",
      "    Key: gene_synonym, Value: ['BRNRS; MAO-A']\n",
      "    Key: note, Value: ['monoamine oxidase A']\n",
      "\n",
      "=================== CDS location ==================\n",
      "CDS end position: [93206:93353](+)\n",
      "\n",
      "=================== Exon 13 ==================\n",
      "type: exon\n",
      "location: [92633:92745](+)\n",
      "qualifiers:\n",
      "    Key: gene, Value: ['MAOA']\n",
      "    Key: gene_synonym, Value: ['BRNRS; MAO-A']\n",
      "    Key: inference, Value: ['alignment:Splign:2.0.8']\n",
      "    Key: number, Value: ['13']\n",
      "\n",
      "\n"
     ]
    }
   ],
   "source": [
    "# loop through each of the features\n",
    "for feature in seq_record.features :\n",
    "\n",
    "  # print out chromosome\n",
    "  if feature.type == 'source':\n",
    "    print('=================== Chromosome ==================')\n",
    "    print(feature.qualifiers['chromosome'][0])\n",
    "    chromosome = feature.qualifiers['chromosome'][0]\n",
    "    print() \n",
    " \n",
    "  # print out gene feature\n",
    "  if feature.type == 'gene':\n",
    "    print('=================== Gene ==================')\n",
    "    print(feature)\n",
    "\n",
    "  # print out exon 13 (this can be used to help count the exons)\n",
    "  if feature.type == 'exon': \n",
    "    if feature.qualifiers['number'][0] == '13':\n",
    "      print('=================== Exon 13 ==================')\n",
    "      print(feature)\n",
    "      print()\n",
    "    if feature.qualifiers['number'][0] == '15':\n",
    "        exons = feature.qualifiers['number'][0] # 3\n",
    "\n",
    "  # print out CDS location \n",
    "  if feature.type == 'CDS': \n",
    "    print('=================== CDS location ==================')\n",
    "    end_cds_position = feature.location.parts[-1] \n",
    "    print(\"CDS end position:\", end_cds_position) \n",
    "    print()   "
   ]
  },
  {
   "cell_type": "markdown",
   "metadata": {
    "deletable": false,
    "editable": false
   },
   "source": [
    "Output the answers to the questions below, and answer the questions \n",
    "using the appropriate python code to analyze the MAOA GenBank entry. \n",
    "You must use python to analyze the GenBank entry, and your code must be\n",
    "generic so that it will work for any GenBank entry that contains \n",
    "information for a single gene. Notes: for (5), use python slicing to \n",
    "extract the nucleotides from the seq_record sequence object. This will \n",
    "give you a Bio.Seq object. Then use the translate method of the \n",
    "Bio.Seq object to translate the sequence.\n",
    "In answering the questions, you may assume that all exons in this entry\n",
    "are for the gene MAOA (this is true here, but some GenBank entries will contain multiple genes), and that the last part of the CDS contains at least 3 codons.\n",
    "\n",
    "For example, to answer (1), note that the *source* feature contains the chromosome, which is accessed via `feature.qualifiers['chromosome'][0]`. Save this value to a variable, and then output its value in (1) below."
   ]
  },
  {
   "cell_type": "code",
   "execution_count": 3,
   "metadata": {},
   "outputs": [
    {
     "name": "stdout",
     "output_type": "stream",
     "text": [
      "1. The gene is on chromosome: X\n",
      "2. The first 5 nucleotides are: TAAAC\n",
      "3. The number of exons contained is: 15\n",
      "4. The last 3 codons of the protein are: AAUGAUGUA\n",
      "5. The last 3 codons code for: NDV\n"
     ]
    }
   ],
   "source": [
    "DNA = seq_record.seq\n",
    "nucleotides = DNA[:5] # 2\n",
    "rna = DNA.transcribe()\n",
    "protein = rna[-9:] # 4\n",
    "codons = protein.translate()\n",
    "\n",
    "print('1. The gene is on chromosome:', chromosome)\n",
    "print('2. The first 5 nucleotides are:', nucleotides)\n",
    "print('3. The number of exons contained is:', exons)\n",
    "print('4. The last 3 codons of the protein are:', protein)\n",
    "print('5. The last 3 codons code for:', codons) "
   ]
  },
  {
   "cell_type": "code",
   "execution_count": null,
   "metadata": {},
   "outputs": [],
   "source": []
  }
 ],
 "metadata": {
  "kernelspec": {
   "display_name": "Python 3",
   "language": "python",
   "name": "python3"
  },
  "language_info": {
   "codemirror_mode": {
    "name": "ipython",
    "version": 3
   },
   "file_extension": ".py",
   "mimetype": "text/x-python",
   "name": "python",
   "nbconvert_exporter": "python",
   "pygments_lexer": "ipython3",
   "version": "3.8.0"
  }
 },
 "nbformat": 4,
 "nbformat_minor": 2
}
